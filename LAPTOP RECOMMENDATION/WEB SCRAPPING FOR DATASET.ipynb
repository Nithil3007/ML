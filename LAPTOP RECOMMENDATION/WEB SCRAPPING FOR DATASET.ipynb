{
 "cells": [
  {
   "cell_type": "code",
   "execution_count": 1,
   "id": "f236cbb9",
   "metadata": {},
   "outputs": [],
   "source": [
    "# import libraries \n",
    "\n",
    "from bs4 import BeautifulSoup\n",
    "import requests\n",
    "import pandas as pd\n",
    "import time\n",
    "import datetime\n",
    "\n",
    "import smtplib"
   ]
  },
  {
   "cell_type": "code",
   "execution_count": 2,
   "id": "9dde4119",
   "metadata": {},
   "outputs": [],
   "source": [
    "'''URL = 'https://www.amazon.com/Dell-Latitude-Business-Certified-Refurbished/dp/B07C6K55M7/'\n",
    "URL1 = 'https://www.amazon.com/Lenovo-3i-Chromebook-Everyday-Notebook/dp/B0BSJ46KY9/?th=1'\n",
    "URL2 = 'https://www.amazon.com/dp/B0CQ3MZKWJ/'\n",
    "URL3 = 'https://www.amazon.com/HP-Portable-Student-Business-Quad-Core/dp/B0CPL25J3W/'\n",
    "URL4 = 'https://www.amazon.com/Inspiron-Business-Microsoft-1920x1080-Bluetooth/dp/B0CRDD3R8S/'\n",
    "URL5 = 'https://www.amazon.com/Chromebook-Convertible-Pentium-Corning-CP314-1H-P1Q5/dp/B0BSLV4MKD/'\n",
    "URL6 = 'https://amazon.com/Acer-Chromebook-Touchscreen-Dual-Core-Processor/dp/B08LBZRVLG/'\n",
    "URL7 = 'https://www.amazon.com/Dell-Inspiron-Business-Laptop-Touchscreen/dp/B0CTY5Y1HV/'\n",
    "URL8 = 'https://www.amazon.com/dp/B0CMXK9MTC/'\n",
    "URL9 = 'https://www.amazon.com/HP-Pavilion-i7-11370H-Micro-Edge-Anti-Glare/dp/B09NL8JTB6/'\n",
    "\n",
    "lis = [URL,URL1,URL2,URL3,URL4,URL5,URL6,URL7,URL8,URL9]'''\n",
    "\n",
    "lis = ['https://www.amazon.com/dp/B0CJQVVSL2', 'https://www.amazon.com/dp/B0BVCLM7ND', 'https://www.amazon.com/dp/B0C1LML36L', 'https://www.amazon.com/dp/B0CTBBV61X', 'https://www.amazon.com/dp/B0CFSBT85B', 'https://www.amazon.com/dp/B0B338HW3T', 'https://www.amazon.com/dp/B0CHH84R39', 'https://www.amazon.com/dp/B0C6NC4KRT', 'https://www.amazon.com/dp/B0CMBWHWH2', 'https://www.amazon.com/dp/B09XN6HNF8', 'https://www.amazon.com/dp/B0CTC946C6', 'https://www.amazon.com/dp/B0CC936WF1', 'https://www.amazon.com/dp/B0CT3WX363', 'https://www.amazon.com/dp/B0CNX3RDMT', 'https://www.amazon.com/dp/B09S8C2XTM', 'https://www.amazon.com/dp/B0C4G4L53W', 'https://www.amazon.com/dp/B0CX4YNCCW', 'https://www.amazon.com/dp/B09S8C2XTM', 'https://www.amazon.com/dp/B09Z111KTW', 'https://www.amazon.com/dp/B0C8GV8WNF', 'https://www.amazon.com/dp/B09XC1Z3FL', 'https://www.amazon.com/dp/B0CGR692P7', 'https://www.amazon.com/dp/B0CQKFQZZL', 'https://www.amazon.com/dp/B0BTQ61Z6D', 'https://www.amazon.com/dp/B0CN4WFVYM', 'https://www.amazon.com/dp/B0C7JBSZ7G', 'https://www.amazon.com/dp/B09JC816PW', 'https://www.amazon.com/dp/B0BY3PGDZR', 'https://www.amazon.com/dp/B0CSPL6GQD', 'https://www.amazon.com/dp/B0CNJRPY25', 'https://www.amazon.com/dp/B08F93HGNB', 'https://www.amazon.com/dp/B0CMRLHMF7', 'https://www.amazon.com/dp/B0BL86VM7F', 'https://www.amazon.com/dp/B0CCSYPWRM', 'https://www.amazon.com/dp/B0CRDY2QBH', 'https://www.amazon.com/dp/B0CGHXQV63', 'https://www.amazon.com/dp/B09JC816PW', 'https://www.amazon.com/dp/B0B29C364N', 'https://www.amazon.com/dp/B0CRYXZZ2K', 'https://www.amazon.com/dp/B0CFHCGB8H', 'https://www.amazon.com/dp/B09VRX9YVW', 'https://www.amazon.com/dp/B0BS4HRL8L', 'https://www.amazon.com/dp/B09LM6SZKG', 'https://www.amazon.com/dp/B0BYBKZ7XD', 'https://www.amazon.com/dp/B0CJXV93K8', 'https://www.amazon.com/dp/B0CCPN5TQJ', 'https://www.amazon.com/dp/B09NL8JTB6', 'https://www.amazon.com/dp/B0CR3K5ZDV', 'https://www.amazon.com/dp/B0CR3K5ZDV', 'https://www.amazon.com/dp/B0815627ZC', 'https://www.amazon.com/dp/B0BGFH18RP', 'https://www.amazon.com/dp/B07Z36FP7L', 'https://www.amazon.com/dp/B0CS5YHYJT', 'https://www.amazon.com/dp/B0CR8WMH8J', 'https://www.amazon.com/dp/B0CRDCFNHW', 'https://www.amazon.com/dp/B0CMXJWXGR', 'https://www.amazon.com/dp/B0CSFPN1WR', 'https://www.amazon.com/dp/B0CLY3T59M', 'https://www.amazon.com/dp/B0C4G3R4PZ', 'https://www.amazon.com/dp/B0BZQKHWRW', 'https://www.amazon.com/dp/B0CF62H34N', 'https://www.amazon.com/dp/B0CTKXR845', 'https://www.amazon.com/dp/B08YWRWLYM', 'https://www.amazon.com/dp/B0CL4MHKPZ', 'https://www.amazon.com/dp/B0CF4FC1LK', 'https://www.amazon.com/dp/B09RD2JX4P', 'https://www.amazon.com/dp/B09QF58J7T', 'https://www.amazon.com/dp/B0CDJCWNRN', 'https://www.amazon.com/dp/B07YL4KV8W', 'https://www.amazon.com/dp/B09T3Z9M6J', 'https://www.amazon.com/dp/B0CDDJCQYX', 'https://www.amazon.com/dp/B0CBTT9RP1', 'https://www.amazon.com/dp/B0CT5GC3SM', 'https://www.amazon.com/dp/B0CDCS4SSP', 'https://www.amazon.com/dp/B0CNPFHNDM', 'https://www.amazon.com/dp/B0CKYS9Z41', 'https://www.amazon.com/dp/B0CMBR38XJ', 'https://www.amazon.com/dp/B0CSDY1DYX', 'https://www.amazon.com/dp/B0CBJ46QZX', 'https://www.amazon.com/dp/B0C9R67GRJ', 'https://www.amazon.com/dp/B09FXFDGN3', 'https://www.amazon.com/dp/B086MBQKH2', 'https://www.amazon.com/dp/B0C7KYYCK9', 'https://www.amazon.com/dp/B0C33KJV5N', 'https://www.amazon.com/dp/B07KLYBVYJ', 'https://www.amazon.com/dp/B0CTNBJWF7', 'https://www.amazon.com/dp/B09MLPK4XX', 'https://www.amazon.com/dp/B0CNYFW4TR', 'https://www.amazon.com/dp/B0CNTHV6KX', 'https://www.amazon.com/dp/B0CWPF44JX', 'https://www.amazon.com/dp/B0CT7BV878', 'https://www.amazon.com/dp/B0CQ1PQDK2', 'https://www.amazon.com/dp/B0751N2Y78', 'https://www.amazon.com/dp/B0CX4YNCCW', 'https://www.amazon.com/dp/B0BN2FG7MJ', 'https://www.amazon.com/dp/B0CMR2R9NP', 'https://www.amazon.com/dp/B0CPT848HC', 'https://www.amazon.com/dp/B0CP5WQXBS', 'https://www.amazon.com/dp/B0BWMJ8XW4', 'https://www.amazon.com/dp/B0BVGHGBPH', 'https://www.amazon.com/dp/B0CQVHMD8K', 'https://www.amazon.com/dp/B0C7KYYCK9', 'https://www.amazon.com/dp/B0C7NNDG21', 'https://www.amazon.com/dp/B0CGW1D6YT', 'https://www.amazon.com/dp/B0CLY554HM', 'https://www.amazon.com/dp/B0CJPNKZRZ', 'https://www.amazon.com/dp/B0B6ZNLWVF', 'https://www.amazon.com/dp/B0CYCPN514', 'https://www.amazon.com/dp/B0CSC15TVC', 'https://www.amazon.com/dp/B0CMCQYFBB', 'https://www.amazon.com/dp/B0B9CJ87JH', 'https://www.amazon.com/dp/B0BS778RLK', 'https://www.amazon.com/dp/B0BWHJQMKH', 'https://www.amazon.com/dp/B0C9GLR7YF', 'https://www.amazon.com/dp/B0CB5NN3K5', 'https://www.amazon.com/dp/B08YRZ2LLJ', 'https://www.amazon.com/dp/B0CLJVH6L4', 'https://www.amazon.com/dp/B0945HVTQH', 'https://www.amazon.com/dp/B0CBTT9RP1', 'https://www.amazon.com/dp/B0BVGHGBPH', 'https://www.amazon.com/dp/B0C6VVHS73', 'https://www.amazon.com/dp/B0CSDX8CHP', 'https://www.amazon.com/dp/B09J1PS4TG', 'https://www.amazon.com/dp/B09G8SK2KK', 'https://www.amazon.com/dp/B0CL4TNKGJ', 'https://www.amazon.com/dp/B0CQNYMM16', 'https://www.amazon.com/dp/B09LC9JWW8', 'https://www.amazon.com/dp/B0C311YDP3', 'https://www.amazon.com/dp/B087YW8FQB', 'https://www.amazon.com/dp/B0CPTT24HP', 'https://www.amazon.com/dp/B0C5S8RH23', 'https://www.amazon.com/dp/B0CKZ62BWW', 'https://www.amazon.com/dp/B0CNKX4T3Q', 'https://www.amazon.com/dp/B0C7HGNKZK', 'https://www.amazon.com/dp/B0CYCPN514', 'https://www.amazon.com/dp/B084SKWC89', 'https://www.amazon.com/dp/B0BL2J3GFD', 'https://www.amazon.com/dp/B0CJRQWCNY', 'https://www.amazon.com/dp/B0CJ8SKSYR', 'https://www.amazon.com/dp/B0CJ3TCRRB', 'https://www.amazon.com/dp/B0CQ3MZKWJ', 'https://www.amazon.com/dp/B09F8JJDLW', 'https://www.amazon.com/dp/B0CQZ66XN7', 'https://www.amazon.com/dp/B0C4JC7X6J', 'https://www.amazon.com/dp/B0C49MTZCD', 'https://www.amazon.com/dp/B0C8ZZJRSL', 'https://www.amazon.com/dp/B0CYNV9L79', 'https://www.amazon.com/dp/B0CTBMXCG7', 'https://www.amazon.com/dp/B0CNTZ8ZGW', 'https://www.amazon.com/dp/B0CNWM8YB4', 'https://www.amazon.com/dp/B0CPBTGX2Z', 'https://www.amazon.com/dp/B09THT8885', 'https://www.amazon.com/dp/B0CP4KHF1Z', 'https://www.amazon.com/dp/B0CQVHMD8K', 'https://www.amazon.com/dp/B0CDLFV2WJ', 'https://www.amazon.com/dp/B0BWMJ8XW4', 'https://www.amazon.com/dp/B0CK9RLBF5', 'https://www.amazon.com/dp/B09F8239CG', 'https://www.amazon.com/dp/B09THT8885', 'https://www.amazon.com/dp/B0CK9RLBF5', 'https://www.amazon.com/dp/B0CDLFV2WJ', 'https://www.amazon.com/dp/B0CTRWXZKJ', 'https://www.amazon.com/dp/B07TJ94DZW', 'https://www.amazon.com/dp/B0BWMJ8XW4', 'https://www.amazon.com/dp/B0CVJ8VFHL', 'https://www.amazon.com/dp/B0CB5YQRFD', 'https://www.amazon.com/dp/B09SZPSTN1', 'https://www.amazon.com/dp/B0BZQFXNZB', 'https://www.amazon.com/dp/B08P2C2H9M', 'https://www.amazon.com/dp/B0CMCQYFBB', 'https://www.amazon.com/dp/B08VMRNDGS', 'https://www.amazon.com/dp/B0CC26JDDX', 'https://www.amazon.com/dp/B0CKK5H3MR', 'https://www.amazon.com/dp/B08VMRNDGS', 'https://www.amazon.com/dp/B0CMCQYFBB', 'https://www.amazon.com/dp/B08316YSKH', 'https://www.amazon.com/dp/B0CJXTTP6C', 'https://www.amazon.com/dp/B0CN7Z7Q29', 'https://www.amazon.com/dp/B0CYCLFKWC', 'https://www.amazon.com/dp/B0CJ8QP8GT', 'https://www.amazon.com/dp/B08XB41YVQ', 'https://www.amazon.com/dp/B0CJP92VWG', 'https://www.amazon.com/dp/B0CXSMZD4H', 'https://www.amazon.com/dp/B0CNG3CXX4', 'https://www.amazon.com/dp/B0CRNHNDCV', 'https://www.amazon.com/dp/B0CX1G2SMM', 'https://www.amazon.com/dp/B0CW39231R', 'https://www.amazon.com/dp/B0CRWWB5RJ', 'https://www.amazon.com/dp/B094VG4RLM', 'https://www.amazon.com/dp/B0CLVQ2YZM', 'https://www.amazon.com/dp/B0CM3D8MX6', 'https://www.amazon.com/dp/B0CNGJ6WWQ', 'https://www.amazon.com/dp/B0CF3VLFGS', 'https://www.amazon.com/dp/B09F8ZVXJ5', 'https://www.amazon.com/dp/B09BG85LRV', 'https://www.amazon.com/dp/B0CT14GXLG', 'https://www.amazon.com/dp/B08HJT1BKQ', 'https://www.amazon.com/dp/B0CT92VQ93', 'https://www.amazon.com/dp/B0CQ3XM3QN', 'https://www.amazon.com/dp/B09XG7SRWL', 'https://www.amazon.com/dp/B0CGHS2SXS', 'https://www.amazon.com/dp/B09XY1R1DR', 'https://www.amazon.com/dp/B0CRH5MSSX', 'https://www.amazon.com/dp/B0CRDDWTX3', 'https://www.amazon.com/dp/B0CK51M9S4', 'https://www.amazon.com/dp/B0C5BHFVGD', 'https://www.amazon.com/dp/B0CHQNS85K', 'https://www.amazon.com/dp/B0C9BR1FFJ', 'https://www.amazon.com/dp/B0CQVGTYF9', 'https://www.amazon.com/dp/B0CRB453J1', 'https://www.amazon.com/dp/B0C81BZQWL', 'https://www.amazon.com/dp/B0CMDJ8173', 'https://www.amazon.com/dp/B081PYX89Y', 'https://www.amazon.com/dp/B0CLPZC6ZL', 'https://www.amazon.com/dp/B0CVMVXVJF', 'https://www.amazon.com/dp/B0CP2WLHTR', 'https://www.amazon.com/dp/B0CRR6YQ6N', 'https://www.amazon.com/dp/B0CMX6WZ9Q', 'https://www.amazon.com/dp/B0BS9124QD', 'https://www.amazon.com/dp/B0CC29F72J', 'https://www.amazon.com/dp/B08K1LBXJL', 'https://www.amazon.com/dp/B0C7JBSZ7G', 'https://www.amazon.com/dp/B0CTC946C6', 'https://www.amazon.com/dp/B0C7KYYCK9', 'https://www.amazon.com/dp/B0CVBHCNDR', 'https://www.amazon.com/dp/B0BSP51S36', 'https://www.amazon.com/dp/B0CJMRQP4H', 'https://www.amazon.com/dp/B0CQ3RJR9Q', 'https://www.amazon.com/dp/B0C9RVBJDW', 'https://www.amazon.com/dp/B0B4YJ94FR', 'https://www.amazon.com/dp/B0C8GGXVWP', 'https://www.amazon.com/dp/B0CRYQLQLQ', 'https://www.amazon.com/dp/B09QF58J7T', 'https://www.amazon.com/dp/B0BN2FG7MJ', 'https://www.amazon.com/dp/B0CNPBZG4M', 'https://www.amazon.com/dp/B0CPXDPG81', 'https://www.amazon.com/dp/B0C8MH4916', 'https://www.amazon.com/dp/B0CLXM9222', 'https://www.amazon.com/dp/B09LMWNMGN', 'https://www.amazon.com/dp/B0CYR7J6Q8', 'https://www.amazon.com/dp/B0CT1ZFGPC', 'https://www.amazon.com/dp/B0C53754LJ', 'https://www.amazon.com/dp/B0CKN9M1S8', 'https://www.amazon.com/dp/B0CMBR38XJ', 'https://www.amazon.com/dp/B0CWMT615T', 'https://www.amazon.com/dp/B0CG3CK51X', 'https://www.amazon.com/dp/B0CR5PD6NS', 'https://www.amazon.com/dp/B0CR8XGCVZ', 'https://www.amazon.com/dp/B0CRTDWG3V', 'https://www.amazon.com/dp/B0CGVP1T8J', 'https://www.amazon.com/dp/B0CGHNMLC9', 'https://www.amazon.com/dp/B0CSSGZZ6Z', 'https://www.amazon.com/dp/B0BYYYFM54', 'https://www.amazon.com/dp/B0751N2Y78', 'https://www.amazon.com/dp/B07GLV1VC7', 'https://www.amazon.com/dp/B07YYM8BMC', 'https://www.amazon.com/dp/B0CFLRG7XR', 'https://www.amazon.com/dp/B09LMWNMGN', 'https://www.amazon.com/dp/B0B6WRGDPL', 'https://www.amazon.com/dp/B0CJ2JXCBZ', 'https://www.amazon.com/dp/B0BVD8LZQL', 'https://www.amazon.com/dp/B0CTK5TLMJ', 'https://www.amazon.com/dp/B0CC936WF1', 'https://www.amazon.com/dp/B09H2P5BHQ', 'https://www.amazon.com/dp/B0B69TQ6CJ', 'https://www.amazon.com/dp/B0B1QQB66N', 'https://www.amazon.com/dp/B0C8MH4916', 'https://www.amazon.com/dp/B09FKR5ZFN', 'https://www.amazon.com/dp/B0B6WRGDPL']\n",
    "\n",
    "def get_details(URL):\n",
    "    headers = {\"User-Agent\": \"Mozilla/5.0 (Windows NT 10.0; Win64; x64) AppleWebKit/537.36 (KHTML, like Gecko) Chrome/78.0.3904.108 Safari/537.36\", \"Accept-Encoding\":\"gzip, deflate\", \"Accept\":\"text/html,application/xhtml+xml,application/xml;q=0.9,*/*;q=0.8\", \"DNT\":\"1\",\"Connection\":\"close\", \"Upgrade-Insecure-Requests\":\"1\"}\n",
    "    page = requests.get(URL, headers=headers)\n",
    "    soup1 = BeautifulSoup(page.content, \"html.parser\")\n",
    "    soup2 = BeautifulSoup(soup1.prettify(), \"html.parser\")\n",
    "    \n",
    "    details_dict = dict()\n",
    "    \n",
    "    price = soup2.find(id=\"productDetails_techSpec_section_1\").get_text()\n",
    "    details_list = [line.strip() for line in price.split('\\n') if line.strip()]\n",
    "    cleaned_list = [item.replace('\\u200e', '').strip() for item in details_list]\n",
    "    detail_pairs = zip(cleaned_list[0::2], cleaned_list[1::2])\n",
    "    details_dict = {prop: value for prop, value in detail_pairs}\n",
    "    \n",
    "    pr = soup2.find(id=\"productDetails_techSpec_section_2\").get_text()\n",
    "    details_list = [line.strip() for line in pr.split('\\n') if line.strip()]\n",
    "    cleaned_list = [item.replace('\\u200e', '').strip() for item in details_list]\n",
    "    detail_pairs = zip(cleaned_list[0::2], cleaned_list[1::2])\n",
    "    details_dict1 = {prop: value for prop, value in detail_pairs}\n",
    "    \n",
    "    details_dict.update(details_dict1)\n",
    "    if 'Brand' in details_dict:\n",
    "        print(details_dict['Brand'])\n",
    "    if 'Series' in details_dict:\n",
    "        print(details_dict['Series'])\n",
    "    #combined_df = pd.DataFrame([combined_df])\n",
    "    df1 = pd.DataFrame([details_dict])\n",
    "    #combined_df = pd.concat([combined_df, df1], ignore_index=True).fillna('NA').astype(str)\n",
    "    \n",
    "    return df1"
   ]
  },
  {
   "cell_type": "code",
   "execution_count": 3,
   "id": "5ab7865e",
   "metadata": {},
   "outputs": [
    {
     "name": "stdout",
     "output_type": "stream",
     "text": [
      "https://www.amazon.com/dp/B0CGW1D6YT\n"
     ]
    }
   ],
   "source": [
    "lis1 = lis[103:]\n",
    "print(lis1[0])"
   ]
  },
  {
   "cell_type": "code",
   "execution_count": 5,
   "id": "ad541d91",
   "metadata": {},
   "outputs": [
    {
     "name": "stdout",
     "output_type": "stream",
     "text": [
      "https://www.amazon.com/dp/B0CGW1D6YT\n"
     ]
    },
    {
     "ename": "AttributeError",
     "evalue": "'NoneType' object has no attribute 'get_text'",
     "output_type": "error",
     "traceback": [
      "\u001b[0;31m---------------------------------------------------------------------------\u001b[0m",
      "\u001b[0;31mAttributeError\u001b[0m                            Traceback (most recent call last)",
      "Cell \u001b[0;32mIn[5], line 6\u001b[0m\n\u001b[1;32m      4\u001b[0m df1 \u001b[38;5;241m=\u001b[39m \u001b[38;5;28mdict\u001b[39m()\n\u001b[1;32m      5\u001b[0m \u001b[38;5;28mprint\u001b[39m(lis1[i])\n\u001b[0;32m----> 6\u001b[0m df1 \u001b[38;5;241m=\u001b[39m get_details(lis1[i])\n\u001b[1;32m      7\u001b[0m combined_df \u001b[38;5;241m=\u001b[39m pd\u001b[38;5;241m.\u001b[39mconcat([combined_df, df1], ignore_index\u001b[38;5;241m=\u001b[39m\u001b[38;5;28;01mTrue\u001b[39;00m)\u001b[38;5;241m.\u001b[39mfillna(\u001b[38;5;124m'\u001b[39m\u001b[38;5;124mNA\u001b[39m\u001b[38;5;124m'\u001b[39m)\u001b[38;5;241m.\u001b[39mastype(\u001b[38;5;28mstr\u001b[39m)\n\u001b[1;32m      8\u001b[0m \u001b[38;5;28mprint\u001b[39m(\u001b[38;5;124mf\u001b[39m\u001b[38;5;124m'\u001b[39m\u001b[38;5;132;01m{\u001b[39;00mi\u001b[38;5;241m+\u001b[39m\u001b[38;5;241m1\u001b[39m\u001b[38;5;132;01m}\u001b[39;00m\u001b[38;5;124m out of \u001b[39m\u001b[38;5;132;01m{\u001b[39;00m\u001b[38;5;28mlen\u001b[39m(lis1)\u001b[38;5;132;01m}\u001b[39;00m\u001b[38;5;124m done\u001b[39m\u001b[38;5;130;01m\\n\u001b[39;00m\u001b[38;5;124m'\u001b[39m)\n",
      "Cell \u001b[0;32mIn[2], line 24\u001b[0m, in \u001b[0;36mget_details\u001b[0;34m(URL)\u001b[0m\n\u001b[1;32m     20\u001b[0m soup2 \u001b[38;5;241m=\u001b[39m BeautifulSoup(soup1\u001b[38;5;241m.\u001b[39mprettify(), \u001b[38;5;124m\"\u001b[39m\u001b[38;5;124mhtml.parser\u001b[39m\u001b[38;5;124m\"\u001b[39m)\n\u001b[1;32m     22\u001b[0m details_dict \u001b[38;5;241m=\u001b[39m \u001b[38;5;28mdict\u001b[39m()\n\u001b[0;32m---> 24\u001b[0m price \u001b[38;5;241m=\u001b[39m soup2\u001b[38;5;241m.\u001b[39mfind(\u001b[38;5;28mid\u001b[39m\u001b[38;5;241m=\u001b[39m\u001b[38;5;124m\"\u001b[39m\u001b[38;5;124mproductDetails_techSpec_section_1\u001b[39m\u001b[38;5;124m\"\u001b[39m)\u001b[38;5;241m.\u001b[39mget_text()\n\u001b[1;32m     25\u001b[0m details_list \u001b[38;5;241m=\u001b[39m [line\u001b[38;5;241m.\u001b[39mstrip() \u001b[38;5;28;01mfor\u001b[39;00m line \u001b[38;5;129;01min\u001b[39;00m price\u001b[38;5;241m.\u001b[39msplit(\u001b[38;5;124m'\u001b[39m\u001b[38;5;130;01m\\n\u001b[39;00m\u001b[38;5;124m'\u001b[39m) \u001b[38;5;28;01mif\u001b[39;00m line\u001b[38;5;241m.\u001b[39mstrip()]\n\u001b[1;32m     26\u001b[0m cleaned_list \u001b[38;5;241m=\u001b[39m [item\u001b[38;5;241m.\u001b[39mreplace(\u001b[38;5;124m'\u001b[39m\u001b[38;5;130;01m\\u200e\u001b[39;00m\u001b[38;5;124m'\u001b[39m, \u001b[38;5;124m'\u001b[39m\u001b[38;5;124m'\u001b[39m)\u001b[38;5;241m.\u001b[39mstrip() \u001b[38;5;28;01mfor\u001b[39;00m item \u001b[38;5;129;01min\u001b[39;00m details_list]\n",
      "\u001b[0;31mAttributeError\u001b[0m: 'NoneType' object has no attribute 'get_text'"
     ]
    }
   ],
   "source": [
    "sample = dict()\n",
    "combined_df = pd.DataFrame([sample])\n",
    "for i in range(len(lis1)):\n",
    "    df1 = dict()\n",
    "    print(lis1[i])\n",
    "    df1 = get_details(lis1[i])\n",
    "    combined_df = pd.concat([combined_df, df1], ignore_index=True).fillna('NA').astype(str)\n",
    "    print(f'{i+1} out of {len(lis1)} done\\n')\n",
    "'''\n",
    "for i in range(len(lis)):\n",
    "    df1 = dict()\n",
    "    print(lis[i])\n",
    "    df1 = get_details(lis[i])\n",
    "    combined_df = pd.concat([combined_df, df1], ignore_index=True).fillna('NA').astype(str)\n",
    "    print(f'{i+1} out of {len(lis)} done\\n')\n",
    "'''"
   ]
  },
  {
   "cell_type": "code",
   "execution_count": 8,
   "id": "a2ee107a",
   "metadata": {},
   "outputs": [
    {
     "data": {
      "text/plain": [
       "(104, 41)"
      ]
     },
     "execution_count": 8,
     "metadata": {},
     "output_type": "execute_result"
    }
   ],
   "source": [
    "combined_df.shape"
   ]
  },
  {
   "cell_type": "code",
   "execution_count": 18,
   "id": "d6f405fe",
   "metadata": {},
   "outputs": [
    {
     "data": {
      "text/plain": [
       "34"
      ]
     },
     "execution_count": 18,
     "metadata": {},
     "output_type": "execute_result"
    }
   ],
   "source": [
    "len(combined_df.columns)"
   ]
  },
  {
   "cell_type": "code",
   "execution_count": 19,
   "id": "89cb0c40",
   "metadata": {},
   "outputs": [],
   "source": [
    "combined_df.to_csv('out3.csv', index=False)"
   ]
  },
  {
   "cell_type": "code",
   "execution_count": 20,
   "id": "970fe786",
   "metadata": {},
   "outputs": [],
   "source": [
    "combined_df1 = pd.read_csv('out2.csv')"
   ]
  },
  {
   "cell_type": "code",
   "execution_count": 21,
   "id": "d8f69e92",
   "metadata": {},
   "outputs": [],
   "source": [
    "combined_df2 = pd.concat([combined_df, combined_df1], ignore_index=True).fillna('NA').astype(str)"
   ]
  },
  {
   "cell_type": "code",
   "execution_count": 22,
   "id": "58c9f99c",
   "metadata": {},
   "outputs": [],
   "source": [
    "combined_df2.to_csv('out3.csv', index=False)"
   ]
  },
  {
   "cell_type": "code",
   "execution_count": null,
   "id": "50f8846d",
   "metadata": {},
   "outputs": [],
   "source": [
    "#CODE ENDS HERE"
   ]
  }
 ],
 "metadata": {
  "kernelspec": {
   "display_name": "Python 3 (ipykernel)",
   "language": "python",
   "name": "python3"
  },
  "language_info": {
   "codemirror_mode": {
    "name": "ipython",
    "version": 3
   },
   "file_extension": ".py",
   "mimetype": "text/x-python",
   "name": "python",
   "nbconvert_exporter": "python",
   "pygments_lexer": "ipython3",
   "version": "3.11.5"
  }
 },
 "nbformat": 4,
 "nbformat_minor": 5
}
